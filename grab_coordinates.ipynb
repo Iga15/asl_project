{
 "cells": [
  {
   "cell_type": "code",
   "execution_count": null,
   "id": "6dce3269-f6d4-40db-bb31-2af210e13c14",
   "metadata": {},
   "outputs": [],
   "source": [
    "# THIS IS A SCRIPT TO GRAB COORDINATES OF LANDMARKS FOR HAND GESTURE RECOGNITION PROJECT WITH MEDIAPIPE"
   ]
  },
  {
   "cell_type": "code",
   "execution_count": null,
   "id": "ae358533-41ea-46e1-866d-bb9f62ee201b",
   "metadata": {},
   "outputs": [],
   "source": [
    "# STEP 1: IMPORTS"
   ]
  },
  {
   "cell_type": "code",
   "execution_count": 1,
   "id": "ffbb718a-a4d7-444f-9e37-7c7d1f2f3ddf",
   "metadata": {},
   "outputs": [],
   "source": [
    "import cv2\n",
    "import mediapipe as mp\n",
    "import pandas as pd\n",
    "import numpy as np"
   ]
  },
  {
   "cell_type": "code",
   "execution_count": null,
   "id": "46305679-f724-4d96-8d60-87f724df463d",
   "metadata": {},
   "outputs": [],
   "source": [
    "# STEP 2: MEDIAPIPE MODELS FOR MAPPING"
   ]
  },
  {
   "cell_type": "code",
   "execution_count": 2,
   "id": "ef97f829-1e7b-4192-b931-0c9038af09c8",
   "metadata": {},
   "outputs": [],
   "source": [
    "mp_drawing = mp.solutions.drawing_utils\n",
    "mp_hands = mp.solutions.hands"
   ]
  },
  {
   "cell_type": "code",
   "execution_count": null,
   "id": "d4ca64d3-937b-46f9-bf3b-1a9ca810936b",
   "metadata": {},
   "outputs": [],
   "source": [
    "# STEP 3: SET A LIST TO STORE LANDMARK COORDINATES FOR GESTURE. WHEN COLLECTING DATA REMEMBER TO RERUN BEFORE NEW GESTURE"
   ]
  },
  {
   "cell_type": "code",
   "execution_count": 78,
   "id": "f1622847-cb6d-4136-886c-f6f819877978",
   "metadata": {},
   "outputs": [],
   "source": [
    "gesture_data = []"
   ]
  },
  {
   "cell_type": "code",
   "execution_count": 66,
   "id": "587231bb-f45c-480a-b692-799f87e0720e",
   "metadata": {},
   "outputs": [],
   "source": [
    "# NAME OF THE GESTURE THAT WE WILL BE COLLECTING FOR"
   ]
  },
  {
   "cell_type": "code",
   "execution_count": 79,
   "id": "d186c5b4-77d6-43c3-ac6f-5f1bc8f526bd",
   "metadata": {},
   "outputs": [],
   "source": [
    "current_gesture = \"V\""
   ]
  },
  {
   "cell_type": "code",
   "execution_count": 68,
   "id": "6e512845-3eba-4def-92e0-3a8090e7aba5",
   "metadata": {},
   "outputs": [],
   "source": [
    "# STEP 4: START CAMERA AND COLLECT LANDMARK COORDINATES AND GESTURE NAME TO GESTURE_DATA"
   ]
  },
  {
   "cell_type": "code",
   "execution_count": 80,
   "id": "d04b0bfc-fd50-4c6f-be7f-f62098886e2e",
   "metadata": {},
   "outputs": [
    {
     "name": "stderr",
     "output_type": "stream",
     "text": [
      "[ WARN:0@2147.665] global /private/var/folders/k1/30mswbxs7r1g6zwn8y4fyt500000gp/T/abs_11nitadzeg/croot/opencv-suite_1691620374638/work/modules/videoio/src/cap_gstreamer.cpp (862) isPipelinePlaying OpenCV | GStreamer warning: GStreamer: pipeline have not been created\n",
      "I0000 00:00:1712670978.104562   96785 gl_context.cc:357] GL version: 2.1 (2.1 Metal - 88), renderer: Apple M1\n"
     ]
    }
   ],
   "source": [
    "cap = cv2.VideoCapture(0)\n",
    "\n",
    "with mp_hands.Hands(min_detection_confidence=0.8, min_tracking_confidence=0.5) as hands_processor:\n",
    "    while cap.isOpened():\n",
    "        ret, frame = cap.read()\n",
    "\n",
    "        if not ret:\n",
    "            print(\"Failed to grab frame.\")\n",
    "            break\n",
    "\n",
    "        image = cv2.cvtColor(cv2.flip(frame, 1), cv2.COLOR_BGR2RGB)\n",
    "        image.flags.writeable = False\n",
    "        results = hands_processor.process(image)\n",
    "        image.flags.writeable = True\n",
    "        image = cv2.cvtColor(image, cv2.COLOR_RGB2BGR)\n",
    "\n",
    "        if results.multi_hand_landmarks:\n",
    "            for hand_landmarks in results.multi_hand_landmarks:\n",
    "                # Extract landmarks\n",
    "                landmarks = [{'x': landmark.x, 'y': landmark.y, 'z': landmark.z} for landmark in hand_landmarks.landmark]\n",
    "                # Append gesture name and landmarks to the list\n",
    "                gesture_data.append({\"gesture\": current_gesture, \"landmarks\": landmarks})\n",
    "\n",
    "                # Visualization\n",
    "                mp_drawing.draw_landmarks(image, hand_landmarks, mp_hands.HAND_CONNECTIONS)\n",
    "\n",
    "        cv2.imshow('Gesture Data Collection', image)\n",
    "        if cv2.waitKey(1) & 0xFF == ord('q'):\n",
    "            break\n",
    "\n",
    "cap.release()\n",
    "cv2.destroyAllWindows()"
   ]
  },
  {
   "cell_type": "code",
   "execution_count": 81,
   "id": "cbb584f6-99e5-40fb-947a-e1db1c4260be",
   "metadata": {},
   "outputs": [
    {
     "data": {
      "text/plain": [
       "604"
      ]
     },
     "execution_count": 81,
     "metadata": {},
     "output_type": "execute_result"
    }
   ],
   "source": [
    "len(gesture_data)"
   ]
  },
  {
   "cell_type": "code",
   "execution_count": 56,
   "id": "262938da-e082-4482-b371-05a4ceeb81ca",
   "metadata": {},
   "outputs": [],
   "source": [
    "# STEP 5: PREPARE THE DATA TO MAKE THE DF, SEPARATE COORDINATES TO GET 3 COORDINATES PER NODE (X, Y, AND Z SEPARATE FOR EACH 'DOT')\n",
    "        # SET COLUMN NAMES"
   ]
  },
  {
   "cell_type": "code",
   "execution_count": 82,
   "id": "e810005f-0d95-49b7-9246-214e4c40566e",
   "metadata": {},
   "outputs": [],
   "source": [
    "data_for_df = []\n",
    "for gesture_instance in gesture_data:\n",
    "    gesture = gesture_instance['gesture']\n",
    "    # Flatten landmarks into a single list\n",
    "    landmarks_flat = [coord for landmark in gesture_instance['landmarks'] for coord in (landmark['x'], landmark['y'], landmark['z'])]\n",
    "    data_for_df.append([gesture] + landmarks_flat)"
   ]
  },
  {
   "cell_type": "code",
   "execution_count": 83,
   "id": "4dc03d98-93d7-4775-8052-1985b651a7e9",
   "metadata": {},
   "outputs": [],
   "source": [
    "columns = ['gesture']\n",
    "for i in range(21):\n",
    "    columns += [f'landmark_{i}_x', f'landmark_{i}_y', f'landmark_{i}_z']"
   ]
  },
  {
   "cell_type": "code",
   "execution_count": 84,
   "id": "4fbf0371-0fe7-4e92-977f-0514f2b44bfd",
   "metadata": {},
   "outputs": [],
   "source": [
    "df_v = pd.DataFrame(data_for_df, columns=columns)"
   ]
  },
  {
   "cell_type": "code",
   "execution_count": null,
   "id": "490604f0-dfff-443a-977c-8996414fce38",
   "metadata": {},
   "outputs": [],
   "source": [
    "# STEP 6: AFTER MAKING SEVERAL DFS WE MERGE THEM, SHUFFLE THE NEW DF AND SAVE IT TO A CSV FILE"
   ]
  },
  {
   "cell_type": "code",
   "execution_count": 85,
   "id": "f7b474bf-d5c8-4cba-affd-f3f288b2feb6",
   "metadata": {},
   "outputs": [],
   "source": [
    "alphabet_df = pd.read_csv('/Users/igazielinska/Downloads/PYTHON/MEDIAPIPE/asl_alphabet.csv')"
   ]
  },
  {
   "cell_type": "code",
   "execution_count": 86,
   "id": "7e430404-440c-45e1-9f1d-ecb658e81948",
   "metadata": {},
   "outputs": [],
   "source": [
    "alphabet_df = pd.concat([alphabet_df, df_v], ignore_index=True)"
   ]
  },
  {
   "cell_type": "code",
   "execution_count": 87,
   "id": "7e340143-9230-45af-9556-29953a6bb49e",
   "metadata": {},
   "outputs": [],
   "source": [
    "alphabet_df = alphabet_df.sample(frac = 1,ignore_index=True)"
   ]
  },
  {
   "cell_type": "code",
   "execution_count": 88,
   "id": "9b98f2fa-2d80-49c0-9a53-a497e971ccb1",
   "metadata": {},
   "outputs": [],
   "source": [
    "alphabet_df.to_csv('asl_alphabet.csv')"
   ]
  },
  {
   "cell_type": "code",
   "execution_count": 89,
   "id": "44e08206-3fcc-422a-953d-5ab4e497a121",
   "metadata": {},
   "outputs": [
    {
     "data": {
      "text/html": [
       "<div>\n",
       "<style scoped>\n",
       "    .dataframe tbody tr th:only-of-type {\n",
       "        vertical-align: middle;\n",
       "    }\n",
       "\n",
       "    .dataframe tbody tr th {\n",
       "        vertical-align: top;\n",
       "    }\n",
       "\n",
       "    .dataframe thead th {\n",
       "        text-align: right;\n",
       "    }\n",
       "</style>\n",
       "<table border=\"1\" class=\"dataframe\">\n",
       "  <thead>\n",
       "    <tr style=\"text-align: right;\">\n",
       "      <th></th>\n",
       "      <th>Unnamed: 0.1</th>\n",
       "      <th>Unnamed: 0</th>\n",
       "      <th>gesture</th>\n",
       "      <th>landmark_0_x</th>\n",
       "      <th>landmark_0_y</th>\n",
       "      <th>landmark_0_z</th>\n",
       "      <th>landmark_1_x</th>\n",
       "      <th>landmark_1_y</th>\n",
       "      <th>landmark_1_z</th>\n",
       "      <th>landmark_2_x</th>\n",
       "      <th>...</th>\n",
       "      <th>landmark_17_z</th>\n",
       "      <th>landmark_18_x</th>\n",
       "      <th>landmark_18_y</th>\n",
       "      <th>landmark_18_z</th>\n",
       "      <th>landmark_19_x</th>\n",
       "      <th>landmark_19_y</th>\n",
       "      <th>landmark_19_z</th>\n",
       "      <th>landmark_20_x</th>\n",
       "      <th>landmark_20_y</th>\n",
       "      <th>landmark_20_z</th>\n",
       "    </tr>\n",
       "  </thead>\n",
       "  <tbody>\n",
       "    <tr>\n",
       "      <th>0</th>\n",
       "      <td>23826.0</td>\n",
       "      <td>4271.0</td>\n",
       "      <td>H</td>\n",
       "      <td>0.866091</td>\n",
       "      <td>0.498706</td>\n",
       "      <td>-6.693230e-09</td>\n",
       "      <td>0.840791</td>\n",
       "      <td>0.408861</td>\n",
       "      <td>0.004693</td>\n",
       "      <td>0.794223</td>\n",
       "      <td>...</td>\n",
       "      <td>-0.060427</td>\n",
       "      <td>0.721388</td>\n",
       "      <td>0.478011</td>\n",
       "      <td>-0.067975</td>\n",
       "      <td>0.730407</td>\n",
       "      <td>0.486134</td>\n",
       "      <td>-0.058071</td>\n",
       "      <td>0.749075</td>\n",
       "      <td>0.488189</td>\n",
       "      <td>-0.049318</td>\n",
       "    </tr>\n",
       "    <tr>\n",
       "      <th>1</th>\n",
       "      <td>19344.0</td>\n",
       "      <td>12124.0</td>\n",
       "      <td>K</td>\n",
       "      <td>0.845493</td>\n",
       "      <td>0.734582</td>\n",
       "      <td>8.177098e-08</td>\n",
       "      <td>0.809632</td>\n",
       "      <td>0.662445</td>\n",
       "      <td>-0.010806</td>\n",
       "      <td>0.795381</td>\n",
       "      <td>...</td>\n",
       "      <td>-0.030272</td>\n",
       "      <td>0.877124</td>\n",
       "      <td>0.563922</td>\n",
       "      <td>-0.047902</td>\n",
       "      <td>0.855343</td>\n",
       "      <td>0.601193</td>\n",
       "      <td>-0.044417</td>\n",
       "      <td>0.838121</td>\n",
       "      <td>0.634099</td>\n",
       "      <td>-0.036603</td>\n",
       "    </tr>\n",
       "    <tr>\n",
       "      <th>2</th>\n",
       "      <td>19893.0</td>\n",
       "      <td>25162.0</td>\n",
       "      <td>I</td>\n",
       "      <td>0.798377</td>\n",
       "      <td>0.665993</td>\n",
       "      <td>-2.597428e-07</td>\n",
       "      <td>0.758528</td>\n",
       "      <td>0.630093</td>\n",
       "      <td>-0.017620</td>\n",
       "      <td>0.729099</td>\n",
       "      <td>...</td>\n",
       "      <td>-0.010558</td>\n",
       "      <td>0.801362</td>\n",
       "      <td>0.374532</td>\n",
       "      <td>-0.023177</td>\n",
       "      <td>0.794819</td>\n",
       "      <td>0.325176</td>\n",
       "      <td>-0.025836</td>\n",
       "      <td>0.787695</td>\n",
       "      <td>0.278156</td>\n",
       "      <td>-0.023571</td>\n",
       "    </tr>\n",
       "    <tr>\n",
       "      <th>3</th>\n",
       "      <td>23150.0</td>\n",
       "      <td>731.0</td>\n",
       "      <td>E</td>\n",
       "      <td>0.852711</td>\n",
       "      <td>0.691479</td>\n",
       "      <td>-3.858155e-07</td>\n",
       "      <td>0.790054</td>\n",
       "      <td>0.639891</td>\n",
       "      <td>-0.014217</td>\n",
       "      <td>0.750762</td>\n",
       "      <td>...</td>\n",
       "      <td>-0.037936</td>\n",
       "      <td>0.898595</td>\n",
       "      <td>0.321717</td>\n",
       "      <td>-0.052149</td>\n",
       "      <td>0.882797</td>\n",
       "      <td>0.330354</td>\n",
       "      <td>-0.053624</td>\n",
       "      <td>0.872871</td>\n",
       "      <td>0.374883</td>\n",
       "      <td>-0.051688</td>\n",
       "    </tr>\n",
       "    <tr>\n",
       "      <th>4</th>\n",
       "      <td>27890.0</td>\n",
       "      <td>10852.0</td>\n",
       "      <td>V</td>\n",
       "      <td>0.712514</td>\n",
       "      <td>0.975692</td>\n",
       "      <td>5.156759e-07</td>\n",
       "      <td>0.662651</td>\n",
       "      <td>0.932474</td>\n",
       "      <td>-0.011731</td>\n",
       "      <td>0.624600</td>\n",
       "      <td>...</td>\n",
       "      <td>-0.056432</td>\n",
       "      <td>0.710385</td>\n",
       "      <td>0.724654</td>\n",
       "      <td>-0.080260</td>\n",
       "      <td>0.679250</td>\n",
       "      <td>0.764386</td>\n",
       "      <td>-0.078445</td>\n",
       "      <td>0.661532</td>\n",
       "      <td>0.804750</td>\n",
       "      <td>-0.071294</td>\n",
       "    </tr>\n",
       "  </tbody>\n",
       "</table>\n",
       "<p>5 rows × 66 columns</p>\n",
       "</div>"
      ],
      "text/plain": [
       "   Unnamed: 0.1  Unnamed: 0 gesture  landmark_0_x  landmark_0_y  landmark_0_z  \\\n",
       "0       23826.0      4271.0       H      0.866091      0.498706 -6.693230e-09   \n",
       "1       19344.0     12124.0       K      0.845493      0.734582  8.177098e-08   \n",
       "2       19893.0     25162.0       I      0.798377      0.665993 -2.597428e-07   \n",
       "3       23150.0       731.0       E      0.852711      0.691479 -3.858155e-07   \n",
       "4       27890.0     10852.0       V      0.712514      0.975692  5.156759e-07   \n",
       "\n",
       "   landmark_1_x  landmark_1_y  landmark_1_z  landmark_2_x  ...  landmark_17_z  \\\n",
       "0      0.840791      0.408861      0.004693      0.794223  ...      -0.060427   \n",
       "1      0.809632      0.662445     -0.010806      0.795381  ...      -0.030272   \n",
       "2      0.758528      0.630093     -0.017620      0.729099  ...      -0.010558   \n",
       "3      0.790054      0.639891     -0.014217      0.750762  ...      -0.037936   \n",
       "4      0.662651      0.932474     -0.011731      0.624600  ...      -0.056432   \n",
       "\n",
       "   landmark_18_x  landmark_18_y  landmark_18_z  landmark_19_x  landmark_19_y  \\\n",
       "0       0.721388       0.478011      -0.067975       0.730407       0.486134   \n",
       "1       0.877124       0.563922      -0.047902       0.855343       0.601193   \n",
       "2       0.801362       0.374532      -0.023177       0.794819       0.325176   \n",
       "3       0.898595       0.321717      -0.052149       0.882797       0.330354   \n",
       "4       0.710385       0.724654      -0.080260       0.679250       0.764386   \n",
       "\n",
       "   landmark_19_z  landmark_20_x  landmark_20_y  landmark_20_z  \n",
       "0      -0.058071       0.749075       0.488189      -0.049318  \n",
       "1      -0.044417       0.838121       0.634099      -0.036603  \n",
       "2      -0.025836       0.787695       0.278156      -0.023571  \n",
       "3      -0.053624       0.872871       0.374883      -0.051688  \n",
       "4      -0.078445       0.661532       0.804750      -0.071294  \n",
       "\n",
       "[5 rows x 66 columns]"
      ]
     },
     "execution_count": 89,
     "metadata": {},
     "output_type": "execute_result"
    }
   ],
   "source": [
    "alphabet_df.head()"
   ]
  },
  {
   "cell_type": "code",
   "execution_count": null,
   "id": "d7f09990-cf98-414d-8cfb-d8155577cf0c",
   "metadata": {},
   "outputs": [],
   "source": []
  }
 ],
 "metadata": {
  "kernelspec": {
   "display_name": "Python 3 (ipykernel)",
   "language": "python",
   "name": "python3"
  },
  "language_info": {
   "codemirror_mode": {
    "name": "ipython",
    "version": 3
   },
   "file_extension": ".py",
   "mimetype": "text/x-python",
   "name": "python",
   "nbconvert_exporter": "python",
   "pygments_lexer": "ipython3",
   "version": "3.11.5"
  }
 },
 "nbformat": 4,
 "nbformat_minor": 5
}
